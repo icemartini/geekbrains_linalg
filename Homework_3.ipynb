{
 "cells": [
  {
   "cell_type": "markdown",
   "id": "9976845a",
   "metadata": {},
   "source": [
    "### Линейные преобразования"
   ]
  },
  {
   "cell_type": "code",
   "execution_count": 1,
   "id": "f282f049",
   "metadata": {},
   "outputs": [],
   "source": [
    "import numpy as np"
   ]
  },
  {
   "cell_type": "markdown",
   "id": "158c9526",
   "metadata": {},
   "source": [
    "__1.__ Найти собственные векторы и собственные значения для линейного оператора, заданного матрицей\n",
    "\n",
    "$$A=\\begin{pmatrix}\n",
    "-1 & -6\\\\ \n",
    "2 & 6\n",
    "\\end{pmatrix}.$$"
   ]
  },
  {
   "cell_type": "markdown",
   "id": "edc6f830",
   "metadata": {},
   "source": [
    "Найдем собственные значения линейного оператора, составив и решив характеристическое уравнение:\n",
    "\n",
    "$\\begin{vmatrix}\n",
    "-1-\\lambda & -6\\\\ \n",
    "2 & 6-\\lambda\n",
    "\\end{vmatrix} = 0 \\leftrightarrow (-1-\\lambda)(6-\\lambda)-(-6)\\cdot2 = 0 \\leftrightarrow \\lambda^2-5\\lambda+6=0 \\leftrightarrow (\\lambda-2)(\\lambda-3)=0$\n",
    "$\\Rightarrow\n",
    "\\begin{cases}\n",
    "\\lambda=2\\\\ \n",
    "\\lambda=3\n",
    "\\end{cases}$"
   ]
  },
  {
   "cell_type": "markdown",
   "id": "9fef5a23",
   "metadata": {},
   "source": [
    "Теперь найдем собственные векторы вида $\\begin{pmatrix}\n",
    "x_{1}\\\\ \n",
    "x_{2}\n",
    "\\end{pmatrix}$, подставив полученное собственное значение в выражение $\\textbf{A}x=\\lambda x$:\n",
    "\n",
    "$\\begin{pmatrix}\n",
    "-1 & -6\\\\ \n",
    "2 & 6\n",
    "\\end{pmatrix}\n",
    "\\begin{pmatrix}\n",
    "x_{1}\\\\ \n",
    "x_{2}\n",
    "\\end{pmatrix}=\n",
    "\\lambda\n",
    "\\begin{pmatrix}\n",
    "x_{1}\\\\ \n",
    "x_{2}\n",
    "\\end{pmatrix}$\n",
    "\n",
    "при $\\lambda=2$\n",
    "\n",
    "$\\begin{cases}\n",
    "-x_{1}-6x_{2}=2x_{1}\\\\ \n",
    "2x_{1}+6x_{2}=2x_{2}\n",
    "\\end{cases}\\Rightarrow\n",
    "x_{2}=-\\frac{1}{2}x_{1}\\Rightarrow$ при $х_{1} = 1$ получаем вектор $(1, -\\frac{1}{2})$\n",
    "\n",
    "при $\\lambda=3$\n",
    "\n",
    "$\\begin{cases}\n",
    "-x_{1}-6x_{2}=3x_{1}\\\\ \n",
    "2x_{1}+6x_{2}=3x_{2}\n",
    "\\end{cases}\\Rightarrow\n",
    "x_{2}=-\\frac{2}{3}x_{1}\\Rightarrow$ при $х_{1} = 1$ получаем вектор $(1, -\\frac{2}{3})$"
   ]
  },
  {
   "cell_type": "markdown",
   "id": "32fa00fe",
   "metadata": {},
   "source": [
    "нормируем полученные собственные векторы:\n",
    "\n",
    "$x_{1} = (\\frac{1}{\\sqrt{\\frac{5}{4}}}, -\\frac{1}{2\\sqrt{\\frac{5}{4}}}) \\approx (0.8944, -0.4472)$\n",
    "\n",
    "$x_{2} = (\\frac{1}{\\sqrt{\\frac{13}{9}}}, -\\frac{2}{3\\sqrt{\\frac{13}{9}}}) \\approx (0.8321, -0.5547)$"
   ]
  },
  {
   "cell_type": "code",
   "execution_count": 3,
   "id": "9aa82648",
   "metadata": {},
   "outputs": [
    {
     "name": "stdout",
     "output_type": "stream",
     "text": [
      "Матрица A:\n",
      "[[-1 -6]\n",
      " [ 2  6]]\n",
      "Собственные значения:\n",
      "[2. 3.]\n",
      "Собственные векторы:\n",
      "[[-0.89442719  0.83205029]\n",
      " [ 0.4472136  -0.5547002 ]]\n"
     ]
    }
   ],
   "source": [
    "a = np.array([[-1, -6], [2, 6]])\n",
    "w, v = np.linalg.eig(a)\n",
    "\n",
    "print(f'Матрица A:\\n{a}')\n",
    "print(f'Собственные значения:\\n{w}')\n",
    "print(f'Собственные векторы:\\n{v}')"
   ]
  },
  {
   "cell_type": "markdown",
   "id": "3088743c",
   "metadata": {},
   "source": [
    "__2.__ Дан оператор поворота на 180 градусов, задаваемый матрицей \n",
    "\n",
    "$$A=\\begin{pmatrix}\n",
    "-1 & 0\\\\ \n",
    "0 & -1\n",
    "\\end{pmatrix}.$$\n",
    "\n",
    "Показать, что __любой__ вектор является для него собственным."
   ]
  },
  {
   "cell_type": "markdown",
   "id": "5ad81d69",
   "metadata": {},
   "source": [
    "Найдем собственные значения линейного оператора, составив и решив характеристическое уравнение:\n",
    "\n",
    "$\\begin{vmatrix}\n",
    "-1-\\lambda & 0\\\\ \n",
    "0 & -1-\\lambda\n",
    "\\end{vmatrix} = 0 \\leftrightarrow (-1-\\lambda)(-1-\\lambda)-0=0 \\leftrightarrow -1-\\lambda=0 \\leftrightarrow \\lambda=-1$\n",
    "\n",
    "Теперь найдем собственные векторы вида $\\begin{pmatrix}\n",
    "x_{1}\\\\ \n",
    "x_{2}\n",
    "\\end{pmatrix}$, подставив полученное собственное значение в выражение $\\textbf{A}x=\\lambda x$:\n",
    "\n",
    "$\\begin{pmatrix}\n",
    "-1 & 0\\\\ \n",
    "0 & -1\n",
    "\\end{pmatrix}\n",
    "\\begin{pmatrix}\n",
    "x_{1}\\\\ \n",
    "x_{2}\n",
    "\\end{pmatrix}=\n",
    "\\lambda\n",
    "\\begin{pmatrix}\n",
    "x_{1}\\\\ \n",
    "x_{2}\n",
    "\\end{pmatrix}\n",
    "$"
   ]
  },
  {
   "cell_type": "markdown",
   "id": "f2af6348",
   "metadata": {},
   "source": [
    "$\\begin{cases}\n",
    "-x_{1}=-x_{1}\\\\ \n",
    "-x_{2}=-x_{2}\n",
    "\\end{cases}$, что верно при любых $x_{1}$ и $x_{2}$\n",
    "\n",
    "следовательно, любой вектор для этого оператора является собственным"
   ]
  },
  {
   "cell_type": "markdown",
   "id": "a1e911e3",
   "metadata": {},
   "source": [
    "__3.__ Пусть линейный оператор задан матрицей\n",
    "\n",
    "$$A=\\begin{pmatrix}\n",
    "1 & 1\\\\ \n",
    "-1 & 3\n",
    "\\end{pmatrix}.$$\n",
    "\n",
    "Установить, является ли вектор $x=(1,1)$ собственным вектором этого линейного оператора.\n"
   ]
  },
  {
   "cell_type": "markdown",
   "id": "2dd021ea",
   "metadata": {},
   "source": [
    "Предположим, что вектор $x$ является собственным вектором заданного линейного оператора, тогда должно существовать некоторое вещественное число $\\lambda$, при котором \n",
    "\n",
    "$\\begin{pmatrix}\n",
    "1 & 1\\\\ \n",
    "-1 & 3\n",
    "\\end{pmatrix}\n",
    "\\begin{pmatrix}\n",
    "1\\\\ \n",
    "1\n",
    "\\end{pmatrix}=\n",
    "\\lambda\n",
    "\\begin{pmatrix}\n",
    "1\\\\ \n",
    "1\n",
    "\\end{pmatrix}\n",
    "$\n",
    "\n",
    "Из этого будет следовать, что \n",
    "\n",
    "$\\begin{cases}\n",
    "1+1=1\\cdot\\lambda \\\\ \n",
    "-1+3 = 1\\cdot \\lambda\n",
    "\\end{cases}\n",
    "\\Rightarrow\n",
    "\\lambda=2$\n",
    "\n",
    "следовательно, вектор $x=(1,1)$ является собственным вектором этого линейного оператора"
   ]
  },
  {
   "cell_type": "markdown",
   "id": "eda1b59f",
   "metadata": {},
   "source": [
    "__4.__ Пусть линейный оператор задан матрицей\n",
    "\n",
    "$$A=\\begin{pmatrix} 0 & 3 & 0\\\\ 3 & 0 & 0\\\\ 0 & 0 & 3 \\end{pmatrix}.$$\n",
    "\n",
    "Установить, является ли вектор $x=(3, -3, -4)$ собственным вектором этого линейного оператора."
   ]
  },
  {
   "cell_type": "markdown",
   "id": "1f6970cd",
   "metadata": {},
   "source": [
    "Предположим, что вектор $x$ является собственным вектором заданного линейного оператора, тогда должно существовать некоторое вещественное число $\\lambda$, при котором \n",
    "\n",
    "$\\begin{pmatrix}\n",
    "0 & 3 & 0\\\\ \n",
    "3 & 0 & 0\\\\\n",
    "0 & 0 & 3\n",
    "\\end{pmatrix}\n",
    "\\begin{pmatrix}\n",
    "3\\\\ \n",
    "-3\\\\\n",
    "-4\n",
    "\\end{pmatrix}=\n",
    "\\lambda\n",
    "\\begin{pmatrix}\n",
    "3\\\\ \n",
    "-3\\\\\n",
    "-4\n",
    "\\end{pmatrix}\n",
    "$\n",
    "\n",
    "Из этого будет следовать, что \n",
    "\n",
    "$\\begin{cases}\n",
    "-9=3\\cdot\\lambda \\\\ \n",
    "9=-3\\cdot \\lambda \\\\\n",
    "-12=-4\\cdot \\lambda\n",
    "\\end{cases}\n",
    "\\Rightarrow\n",
    "\\begin{cases}\n",
    "\\lambda=-3\\\\ \n",
    "\\lambda=-3\\\\ \n",
    "\\lambda=3\n",
    "\\end{cases}$\n",
    "\n",
    "Такая система не имеет смысла, следовательно, вектор $x=(3, -3, -4)$ не является собственным вектором линейного оператора, заданного матрицей $A$"
   ]
  }
 ],
 "metadata": {
  "kernelspec": {
   "display_name": "Python 3",
   "language": "python",
   "name": "python3"
  },
  "language_info": {
   "codemirror_mode": {
    "name": "ipython",
    "version": 3
   },
   "file_extension": ".py",
   "mimetype": "text/x-python",
   "name": "python",
   "nbconvert_exporter": "python",
   "pygments_lexer": "ipython3",
   "version": "3.8.8"
  }
 },
 "nbformat": 4,
 "nbformat_minor": 5
}
