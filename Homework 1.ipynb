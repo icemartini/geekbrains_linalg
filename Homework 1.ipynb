{
 "cells": [
  {
   "cell_type": "markdown",
   "id": "65586b05",
   "metadata": {},
   "source": [
    "### Линейное пространство. Основные понятия. Часть 1"
   ]
  },
  {
   "cell_type": "markdown",
   "id": "377354c3",
   "metadata": {},
   "source": [
    "__1.__ Исследовать на линейную зависимость:\n",
    "\n",
    "$$f_{1}(x)=e^{x}, f_{2}(x)=1, f_{3}(x)=x+1, f_{4}(x)=x-e^{x}.$$"
   ]
  },
  {
   "cell_type": "markdown",
   "id": "de20f466",
   "metadata": {},
   "source": [
    "Заметим что\n",
    "\n",
    "$e^x = -1+(x + 1)-(x-e^x)$, т.е.\n",
    "\n",
    "$f_{1}(x) = -f_{2}(x)+f_{3}(x)-f_4(x)$\n",
    "\n",
    "Следовательно, $f_{1}(x), f_{2}(x), f_{3}(x), f_{4}(x)$ линейно зависимы"
   ]
  },
  {
   "cell_type": "markdown",
   "id": "6300b138",
   "metadata": {},
   "source": [
    "__2.__ Исследовать на линейную зависимость:\n",
    "$$f_{1}(x)=2, f_{2}(x)=x, f_{3}(x)=x^{2}, f_{4}(x)=(x+1)^{2}$$"
   ]
  },
  {
   "cell_type": "markdown",
   "id": "cd0bd3f8",
   "metadata": {},
   "source": [
    "$(x+1)^2 = x^2+2x+1 $\n",
    "\n",
    "Заметим, что\n",
    "\n",
    "$2 = -4x-2x^2+2(x^2+2x+1)$\n",
    "\n",
    "$f_{1}(x) = -4f_{2}(x)-2f_{3}(x)+2f_4(x)$\n",
    "\n",
    "Следовательно, $f_{1}(x), f_{2}(x), f_{3}(x), f_{4}(x)$ линейно зависимы"
   ]
  },
  {
   "cell_type": "markdown",
   "id": "2d687a8e",
   "metadata": {},
   "source": [
    "__3.__ Найти координаты вектора $x = (2, 3, 5)\\in \\mathbb{R}^{3}$ в базисе $b_{1}=(0, 0, 10)$, $b_{2}=(2, 0, 0)$, $b_{3}=(0, 1, 0)$."
   ]
  },
  {
   "cell_type": "markdown",
   "id": "a86a6ef3",
   "metadata": {},
   "source": [
    "$x = (2, 3, 5) = (0, 0, 5) + (2, 0, 0) + (0, 3, 0)  = \\frac{1}{2}b_{1} + b_{2} + 3b_{3}$\n",
    "\n",
    "то есть координатами вектора $x$ в указанном базисе являются $\\frac{1}{2}$, $1$, $3$."
   ]
  },
  {
   "cell_type": "markdown",
   "id": "bddb0a21",
   "metadata": {},
   "source": [
    "__4.__ Найти координаты вектора $3x^{2}-2x+2\\in\\mathbb{R}^{3}[x]$:\n",
    "\n",
    "а) в базисе $1$, $x$, $x^{2}$;\n",
    "\n",
    "б) в базисе $x^{2}$, $x-1$, $1$."
   ]
  },
  {
   "cell_type": "markdown",
   "id": "8ffa4b4a",
   "metadata": {},
   "source": [
    "а) $3x^2 - 2x + 2 = 2\\cdot1 + (-2)\\cdot x + 3\\cdot x^2$, ответ: $(2, -2, 3)$\n",
    "\n",
    "б) $3x^2 - 2x + 2 = 3\\cdot x^2 + (-2)\\cdot(x-1) + 0\\cdot1$, ответ: $(3, -2, 0)$"
   ]
  },
  {
   "cell_type": "markdown",
   "id": "39c802ef",
   "metadata": {},
   "source": [
    "__5.__ Установить, является ли линейным подпространством:\n",
    "\n",
    "а) совокупность всех векторов трехмерного пространства, у которых по крайней мере одна из первых двух координат равна нулю;\n",
    "    \n",
    "б) все векторы, являющиеся линейными комбинациями данных векторов $\\{u_{1}, u_{2}, \\ldots, u_{n}\\}$."
   ]
  },
  {
   "cell_type": "markdown",
   "id": "12c1a1c7",
   "metadata": {},
   "source": [
    "а) $(0, a, b), (c, 0, d), (0, 0, f) \\in L$\n",
    "\n",
    "$(0, a, b) + (c, 0, d) + (0, 0, f) = (c, a, b+d+f)$\n",
    "\n",
    "полученный вектор не принадлежит к указанному множеству векторов, поэтому эта совокупность не является линейным подпространством\n",
    "\n",
    "б) пусть \n",
    "\n",
    "$a=\\lambda_1\\cdot u_{1}+\\lambda_2\\cdot u_{2}+\\dots +\\lambda_n\\cdot u_{n}$ \n",
    "\n",
    "$b=\\mu_1\\cdot u_{1}+\\mu_2\\cdot u_{2}+\\dots +\\mu_n\\cdot u_{n}$\n",
    "\n",
    "$a+b=(\\lambda_{1}+\\mu_1)\\cdot u_{1}+(\\lambda_{2}+\\mu_2)\\cdot u_{2} +\\dots + (\\lambda_{n}+\\mu_n)\\cdot u_n$\n",
    "\n",
    "$\\alpha\\cdot a=\\alpha\\cdot\\lambda_1\\cdot u_{1}+\\alpha\\cdot\\lambda_2\\cdot u_{2}+\\dots +\\alpha\\cdot\\lambda_n\\cdot u_{n}=(\\alpha\\cdot\\lambda_1)\\cdot u_{1}+(\\alpha\\cdot\\lambda_2)\\cdot u_{2}+\\dots +(\\alpha\\cdot\\lambda_n)\\cdot u_{n}\\Rightarrow$\n",
    "\n",
    "все векторы, являющиеся линейными комбинациями векторов $\\{u_{1}, u_{2}, \\ldots, u_{n}\\}$ являются линейным подпространством"
   ]
  },
  {
   "cell_type": "markdown",
   "id": "1771fda6",
   "metadata": {},
   "source": [
    "### Линейное пространство. Основные понятия. Часть 2"
   ]
  },
  {
   "cell_type": "markdown",
   "id": "4f7c8eea",
   "metadata": {},
   "source": [
    "__1.__ Найти скалярное произведение векторов $x, y \\in \\mathbb{R}$:<br>\n",
    "а) $x=(0,-3, 6),~y=(-4, 7, 9);$<br>\n",
    "б) $x=(7, -4, 0, 1),~y=(-3, 1, 11, 2).$"
   ]
  },
  {
   "cell_type": "markdown",
   "id": "cadefad5",
   "metadata": {},
   "source": [
    "а) $(x,y)=0\\cdot(-4)+(-3)\\cdot7+6\\cdot9 = 33$\n",
    "\n",
    "б) $(x,y)=7\\cdot(-3)+(-4)\\cdot1+0\\cdot11+1\\cdot2 = -23$"
   ]
  },
  {
   "cell_type": "code",
   "execution_count": 1,
   "id": "c09f1c1a",
   "metadata": {},
   "outputs": [
    {
     "data": {
      "text/plain": [
       "(33, -23)"
      ]
     },
     "execution_count": 1,
     "metadata": {},
     "output_type": "execute_result"
    }
   ],
   "source": [
    "import numpy as np\n",
    "\n",
    "np.dot(np.array([0, -3, 6]), np.array([-4, 7, 9])), np.dot(np.array([7, -4, 0, 1]), np.array([-3, 1, 11, 2]))"
   ]
  },
  {
   "cell_type": "markdown",
   "id": "14be1dc3",
   "metadata": {},
   "source": [
    "__2.__ Найти нормы векторов $(4, 2, 4)$ и $(12, 3, 4)$ и угол между ними."
   ]
  },
  {
   "cell_type": "markdown",
   "id": "a801a923",
   "metadata": {},
   "source": [
    "Манхэттенская норма вектора $(4,2,4)$:\n",
    "\n",
    "$\\left\\|x\\right\\|_{1} = |4|+|2|+|4|=10$\n",
    "\n",
    "Евклидова норма вектора $(4,2,4)$:\n",
    "\n",
    "$\\left\\|x\\right\\|_{2} = \\sqrt{4^{2}+2^{2}+4^{2}}=6$\n",
    "\n",
    "Манхэттенская норма вектора $(12,3,4)$:\n",
    "\n",
    "$\\left\\|x\\right\\|_{1} = |12|+|3|+|4|=19$\n",
    "\n",
    "Евклидова норма вектора $(12,3,4)$:\n",
    "\n",
    "$\\left\\|x\\right\\|_{2} = \\sqrt{12^{2}+3^{2}+4^{2}}=13$\n",
    "\n",
    "угол между векторами:\n",
    "\n",
    "$cos\\varphi = \\frac{4\\cdot12+2\\cdot3+4\\cdot4}{\\sqrt{4^{2}+2^{2}+4^{2}}\\sqrt{12^{2}+3^{2}+4^{2}}}=\\frac{70}{78}\\approx 0.897$"
   ]
  },
  {
   "cell_type": "code",
   "execution_count": 2,
   "id": "4dfa4d2e",
   "metadata": {},
   "outputs": [
    {
     "name": "stdout",
     "output_type": "stream",
     "text": [
      "манхэттенская норма: 10.0, евклидова норма: 6.0\n",
      "манхэттенская норма: 19.0, евклидова норма: 13.0\n",
      "косинус угла: 0.8974358974358974, угол: 0.4568740035326613\n"
     ]
    }
   ],
   "source": [
    "from numpy.linalg import norm\n",
    "\n",
    "a = np.array([4, 2, 4])\n",
    "b = np.array([12, 3, 4])\n",
    "cos_phi = np.dot(a, b) / norm(a) / norm(b)\n",
    "print(f'манхэттенская норма: {norm(a, ord=1)}, евклидова норма: {norm(a, ord=2)}')\n",
    "print(f'манхэттенская норма: {norm(b, ord=1)}, евклидова норма: {norm(b, ord=2)}')\n",
    "print(f'косинус угла: {cos_phi}, угол: {np.arccos(cos_phi)}')"
   ]
  },
  {
   "cell_type": "markdown",
   "id": "8e53459b",
   "metadata": {},
   "source": [
    "__3.__ Будет ли линейное пространство евклидовым, если за скалярное произведение принять:<br>\n",
    "а) произведение длин векторов;<br>\n",
    "б) утроенное обычное скалярное произведение векторов?<br>"
   ]
  },
  {
   "cell_type": "markdown",
   "id": "0c66c684",
   "metadata": {},
   "source": [
    "Линейное пространство называется евклидовым, если скалярное произведение упорядоченной пары векторов этого пространства подчиняется следующим 4-м аксиомам:\n",
    "\n",
    "1) $(x,y)=(y,x)$\n",
    "\n",
    "2) $(\\lambda x, y)=\\lambda(x, y)$\n",
    "\n",
    "3) $(x_{1}+x_{2},y)=(x_{1},y)+(x_{2},y)$\n",
    "\n",
    "4) $(x, x)\\geq0$, причем $(x,x)=0\\Leftrightarrow x=0$"
   ]
  },
  {
   "cell_type": "markdown",
   "id": "ab0f030c",
   "metadata": {},
   "source": [
    "**a)** $(a,b)=|a|\\cdot |b|$\n",
    "\n",
    "Проверим на соответствие аксиомам:\n",
    "\n",
    "- $(a,b)=(b,a)\\Rightarrow |a|\\cdot |b| = |b|\\cdot|a|$ - верно\n",
    "\n",
    "- $(\\lambda\\cdot a,b)=\\lambda\\cdot(a,b) \\Rightarrow |\\lambda\\cdot a|\\cdot |b|= \\lambda\\cdot(|a|\\cdot |b|)$ - верно\n",
    "\n",
    "- $(a+z,b)=(a,b)+(z,b) \\Rightarrow |a+z|\\cdot |b|=|a|\\cdot |b|+|z|\\cdot |b|$ - неверно\n",
    "\n",
    "Следовательно, линейное пространство **не будет евклидовым**\n",
    "\n",
    "**б)** $(a,b)= 3\\cdot\\left|a\\right|\\cdot\\left|b\\right|\\cdot cos\\alpha$ \n",
    "\n",
    "- $(a,b)=(b,a)\\Rightarrow 3\\cdot\\left|a\\right|\\cdot\\left|b\\right|\\cdot cos\\alpha = 3\\cdot\\left|b\\right|\\cdot\\left|a\\right|\\cdot cos\\alpha$ - верно\n",
    "\n",
    "- $(\\lambda\\cdot a,b)=\\lambda\\cdot(a,b) \\Rightarrow 3\\cdot |\\lambda\\cdot a|\\cdot|b|\\cdot cos\\alpha = \\lambda\\cdot3\\cdot|a|\\cdot|b|\\cdot cos\\alpha$ - верно\n",
    "\n",
    "- $(a+z,b)=(a,b)+(z,b) \\Rightarrow 3\\cdot |a+z|\\cdot|b|\\cdot cos\\phi = 3\\cdot\\left|a\\right|\\cdot\\left|b\\right|\\cdot cos\\alpha+3\\cdot\\left|z\\right|\\cdot\\left|b\\right|\\cdot cos\\beta = 3\\cdot(|a|cos\\alpha+|z|cos\\beta)\\cdot\\left|b\\right|$ \n",
    "\n",
    "-верно если $cos\\alpha+cos\\beta=cos\\phi$\n",
    "\n",
    "- $(a, a)\\geq0$, причем $(a,a)=0\\Leftrightarrow a=0$ - верно\n",
    "\n",
    "$3\\cdot|a|\\cdot|a|\\cdot cos\\alpha = 0$, когда $|a| = 0$ или $cos\\alpha = 0$, но в данном случае $cos\\alpha$ всегда равен 1\n",
    "\n",
    "Следовательно, линейное пространство **будет евклидовым**"
   ]
  },
  {
   "cell_type": "markdown",
   "id": "16285e09",
   "metadata": {},
   "source": [
    "__4.__ Какие из нижеперечисленных векторов образуют ортонормированный базис в линейном пространстве $\\mathbb{R}^{3}$:<br>\n",
    "а) $(1,0,0),(0,0,1);$ <br>\n",
    "б) $(1/\\sqrt{2},-1/\\sqrt{2},0),(1/\\sqrt{2},1/\\sqrt{2},0), (0,0,1);$<br>\n",
    "в) $(1/2, -1/2, 0), (0, 1/2, 1/2), (0,0,1);$<br>\n",
    "г) $(1,0,0),(0,1,0),(0,0,1)?$ "
   ]
  },
  {
   "cell_type": "markdown",
   "id": "9eda08d2",
   "metadata": {},
   "source": [
    "базис $\\{e_{1},e_{2},...,e_{n}\\}$ называется ортонормированным, если $(e_{i}, e_{j})=0$ $\\forall$ $i\\neq j$ и $(e_{i},e_{i})=1$ $\\forall$ $i\\in[1, n]$"
   ]
  },
  {
   "cell_type": "markdown",
   "id": "1e8a3786",
   "metadata": {},
   "source": [
    "**а) недостаточно векторов** для базиса\n",
    "\n",
    "**б)** проверим скалярные произведения двух векторов:\n",
    "\n",
    "$ (\\frac{1}{\\sqrt{2}},\\frac{-1}{\\sqrt{2}},0)\\cdot(\\frac{1}{\\sqrt{2}},\\frac{1}{\\sqrt{2}},0)=(\\frac{1}{2}-\\frac{1}{2}+0)=0$\n",
    "\n",
    "$ (\\frac{1}{\\sqrt{2}},\\frac{-1}{\\sqrt{2}},0)\\cdot(0,0,1)=0$\n",
    "\n",
    "$ (\\frac{1}{\\sqrt{2}},\\frac{1}{\\sqrt{2}},0)\\cdot(0,0,1)=0$\n",
    "\n",
    "заключаем, что векторы ортогональны\n",
    "\n",
    "$(\\frac{1}{\\sqrt{2}},\\frac{-1}{\\sqrt{2}},0)\\cdot(\\frac{1}{\\sqrt{2}},\\frac{-1}{\\sqrt{2}},0)=(\\frac{1}{2}+\\frac{1}{2}+0)=1$\n",
    "\n",
    "$(\\frac{1}{\\sqrt{2}},\\frac{-1}{\\sqrt{2}},0)\\cdot(\\frac{1}{\\sqrt{2}},\\frac{-1}{\\sqrt{2}},0)=(\\frac{1}{2}+\\frac{1}{2}+0)=1$\n",
    "\n",
    "$(0,0,1)\\cdot(0,0,1)=(0+0+1)=1$\n",
    "\n",
    "следовательно, векторы **образуют ортонормированный базис**\n",
    "\n",
    "**в)** проверим скалярные произведения двух векторов:\n",
    "\n",
    "$ (\\frac{1}{2},\\frac{-1}{2},0)\\cdot(0,\\frac{1}{2},\\frac{1}{2})=(0-\\frac{1}{4}+0) = -\\frac{1}{4} \\neq 0$\n",
    "\n",
    "условие ортогональности не выполняется, следовательно векторы **не могут образовывать ортонормированный базис**\n",
    "\n",
    "**г)** проверим скалярные произведения двух векторов:\n",
    "\n",
    "$ (1,0,0)\\cdot(0,1,0)=(0+0+0)=0$\n",
    "\n",
    "$ (0,1,0)\\cdot(0,0,1)=(0+0+0)=0$\n",
    "\n",
    "$ (1,0,0)\\cdot(0,0,1)=(0+0+0)=0$\n",
    "\n",
    "заключаем, что векторы ортогональны\n",
    "\n",
    "$ (1,0,0)\\cdot(1,0,0)=(1+0+0)=1$\n",
    "\n",
    "$ (0,1,0)\\cdot(0,1,0)=(0+1+0)=1$\n",
    "\n",
    "$ (0,0,1)\\cdot(0,0,1)=(0+0+1)=1$\n",
    "\n",
    "следовательно, векторы **образуют ортонормированный базис**"
   ]
  }
 ],
 "metadata": {
  "kernelspec": {
   "display_name": "Python 3",
   "language": "python",
   "name": "python3"
  },
  "language_info": {
   "codemirror_mode": {
    "name": "ipython",
    "version": 3
   },
   "file_extension": ".py",
   "mimetype": "text/x-python",
   "name": "python",
   "nbconvert_exporter": "python",
   "pygments_lexer": "ipython3",
   "version": "3.8.8"
  }
 },
 "nbformat": 4,
 "nbformat_minor": 5
}
